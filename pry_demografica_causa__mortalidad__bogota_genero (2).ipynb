{
  "cells": [
    {
      "cell_type": "markdown",
      "source": [
        "# PROYECTO DEMOGRAFICO CAUSA MORTALIDAD BOGOTA POR GENERO\n",
        "## Luisa Magaly Achury\n",
        "## Johan Cuellar Orjuela\n",
        "## Sebastian Abella Rocha\n",
        "### Fecha 10 enero *2024*"
      ],
      "metadata": {
        "id": "z8gYT3Q8fmuj"
      },
      "id": "z8gYT3Q8fmuj"
    },
    {
      "cell_type": "markdown",
      "source": [
        "En este cuaderno de jupyter se realiza un flujo de trabajo para predecir por años en localidades de Bogotá el porcentaje de afectados por el EPOC por medio del genero , a partir de una base de datos\n"
      ],
      "metadata": {
        "id": "vSh21SMif_Li"
      },
      "id": "vSh21SMif_Li"
    },
    {
      "cell_type": "markdown",
      "source": [
        "### Importar librerías"
      ],
      "metadata": {
        "id": "6DUjVIsffw-9"
      },
      "id": "6DUjVIsffw-9"
    },
    {
      "cell_type": "code",
      "execution_count": 1,
      "id": "887597e8",
      "metadata": {
        "id": "887597e8"
      },
      "outputs": [],
      "source": [
        "import numpy as np\n",
        "import pandas as pd"
      ]
    },
    {
      "cell_type": "markdown",
      "source": [
        "### Cargar datos"
      ],
      "metadata": {
        "id": "Sgg2k4Myghc_"
      },
      "id": "Sgg2k4Myghc_"
    },
    {
      "cell_type": "code",
      "source": [
        "from google.colab import drive\n",
        "drive.mount('/content/drive')"
      ],
      "metadata": {
        "id": "vHno_gVX5mGF",
        "colab": {
          "base_uri": "https://localhost:8080/"
        },
        "outputId": "15139116-69bc-48af-8b56-49dcae9b3461"
      },
      "id": "vHno_gVX5mGF",
      "execution_count": 2,
      "outputs": [
        {
          "output_type": "stream",
          "name": "stdout",
          "text": [
            "Mounted at /content/drive\n"
          ]
        }
      ]
    },
    {
      "cell_type": "code",
      "execution_count": 6,
      "id": "60ee7e6d",
      "metadata": {
        "id": "60ee7e6d"
      },
      "outputs": [],
      "source": [
        "# dataini = pd.read_csv('historico_siniestros_bogota_d.c_-.csv')\n",
        "dataini = pd.read_csv('/content/drive/MyDrive/data/demografia_causasmortalidad.csv', sep=';', encoding='latin-1')"
      ]
    },
    {
      "cell_type": "code",
      "source": [
        "dataini.head()"
      ],
      "metadata": {
        "colab": {
          "base_uri": "https://localhost:8080/",
          "height": 278
        },
        "id": "jKaNZBuF4gbA",
        "outputId": "415a97ee-7e58-4f2d-f8dc-ee63ad238fbe"
      },
      "id": "jKaNZBuF4gbA",
      "execution_count": 7,
      "outputs": [
        {
          "output_type": "execute_result",
          "data": {
            "text/plain": [
              "   ANIO       SEXO  LOCALIDAD_CODIGO LOCALIDAD_NOMBRE    EDAD_GRUPO  \\\n",
              "0  2005  Masculino               1.0          Usaquén  00 a 04 años   \n",
              "1  2005   Femenino               1.0          Usaquén  00 a 04 años   \n",
              "2  2005  Masculino               1.0          Usaquén  00 a 04 años   \n",
              "3  2005  Masculino               1.0          Usaquén  00 a 04 años   \n",
              "4  2005   Femenino               1.0          Usaquén  00 a 04 años   \n",
              "\n",
              "  SEGURIDAD_SOCIAL_REGIMEN MORTALIDAD_CODIGO_CIE10  \\\n",
              "0                VINCULADO                    J189   \n",
              "1             CONTRIBUTIVO                    J189   \n",
              "2             CONTRIBUTIVO                    J219   \n",
              "3               SUBSIDIADO                    P369   \n",
              "4             CONTRIBUTIVO                    P369   \n",
              "\n",
              "                        MORTALIDAD_DESCRIPCION_CIE10  \\\n",
              "0                          NEUMONIA, NO ESPECIFICADA   \n",
              "1                          NEUMONIA, NO ESPECIFICADA   \n",
              "2               BRONQUIOLITIS AGUDA, NO ESPECIFICADA   \n",
              "3  SEPSIS BACTERIANA DEL RECIEN NACIDO, NO ESPECI...   \n",
              "4  SEPSIS BACTERIANA DEL RECIEN NACIDO, NO ESPECI...   \n",
              "\n",
              "                          MORTALIDAD_DESCRIPCION_105  \\\n",
              "0                                          Neumonía    \n",
              "1                                          Neumonía    \n",
              "2  Todas las demás enfermedades del sistema respi...   \n",
              "3     Infecciones específicas del período perinatal    \n",
              "4     Infecciones específicas del período perinatal    \n",
              "\n",
              "            MORTALIDAD_DESCRIPCION_667 MORTALIDAD_CONDICION_CRONICA  \n",
              "0    Infecciones respiratorias agudas                     No aplica  \n",
              "1    Infecciones respiratorias agudas                     No aplica  \n",
              "2    Infecciones respiratorias agudas                     No aplica  \n",
              "3  Sepsis bacteriana del recién nacido                    No aplica  \n",
              "4  Sepsis bacteriana del recién nacido                    No aplica  "
            ],
            "text/html": [
              "\n",
              "  <div id=\"df-b8ac09cb-e025-44a8-83fc-fe3c5c6f0776\" class=\"colab-df-container\">\n",
              "    <div>\n",
              "<style scoped>\n",
              "    .dataframe tbody tr th:only-of-type {\n",
              "        vertical-align: middle;\n",
              "    }\n",
              "\n",
              "    .dataframe tbody tr th {\n",
              "        vertical-align: top;\n",
              "    }\n",
              "\n",
              "    .dataframe thead th {\n",
              "        text-align: right;\n",
              "    }\n",
              "</style>\n",
              "<table border=\"1\" class=\"dataframe\">\n",
              "  <thead>\n",
              "    <tr style=\"text-align: right;\">\n",
              "      <th></th>\n",
              "      <th>ANIO</th>\n",
              "      <th>SEXO</th>\n",
              "      <th>LOCALIDAD_CODIGO</th>\n",
              "      <th>LOCALIDAD_NOMBRE</th>\n",
              "      <th>EDAD_GRUPO</th>\n",
              "      <th>SEGURIDAD_SOCIAL_REGIMEN</th>\n",
              "      <th>MORTALIDAD_CODIGO_CIE10</th>\n",
              "      <th>MORTALIDAD_DESCRIPCION_CIE10</th>\n",
              "      <th>MORTALIDAD_DESCRIPCION_105</th>\n",
              "      <th>MORTALIDAD_DESCRIPCION_667</th>\n",
              "      <th>MORTALIDAD_CONDICION_CRONICA</th>\n",
              "    </tr>\n",
              "  </thead>\n",
              "  <tbody>\n",
              "    <tr>\n",
              "      <th>0</th>\n",
              "      <td>2005</td>\n",
              "      <td>Masculino</td>\n",
              "      <td>1.0</td>\n",
              "      <td>Usaquén</td>\n",
              "      <td>00 a 04 años</td>\n",
              "      <td>VINCULADO</td>\n",
              "      <td>J189</td>\n",
              "      <td>NEUMONIA, NO ESPECIFICADA</td>\n",
              "      <td>Neumonía</td>\n",
              "      <td>Infecciones respiratorias agudas</td>\n",
              "      <td>No aplica</td>\n",
              "    </tr>\n",
              "    <tr>\n",
              "      <th>1</th>\n",
              "      <td>2005</td>\n",
              "      <td>Femenino</td>\n",
              "      <td>1.0</td>\n",
              "      <td>Usaquén</td>\n",
              "      <td>00 a 04 años</td>\n",
              "      <td>CONTRIBUTIVO</td>\n",
              "      <td>J189</td>\n",
              "      <td>NEUMONIA, NO ESPECIFICADA</td>\n",
              "      <td>Neumonía</td>\n",
              "      <td>Infecciones respiratorias agudas</td>\n",
              "      <td>No aplica</td>\n",
              "    </tr>\n",
              "    <tr>\n",
              "      <th>2</th>\n",
              "      <td>2005</td>\n",
              "      <td>Masculino</td>\n",
              "      <td>1.0</td>\n",
              "      <td>Usaquén</td>\n",
              "      <td>00 a 04 años</td>\n",
              "      <td>CONTRIBUTIVO</td>\n",
              "      <td>J219</td>\n",
              "      <td>BRONQUIOLITIS AGUDA, NO ESPECIFICADA</td>\n",
              "      <td>Todas las demás enfermedades del sistema respi...</td>\n",
              "      <td>Infecciones respiratorias agudas</td>\n",
              "      <td>No aplica</td>\n",
              "    </tr>\n",
              "    <tr>\n",
              "      <th>3</th>\n",
              "      <td>2005</td>\n",
              "      <td>Masculino</td>\n",
              "      <td>1.0</td>\n",
              "      <td>Usaquén</td>\n",
              "      <td>00 a 04 años</td>\n",
              "      <td>SUBSIDIADO</td>\n",
              "      <td>P369</td>\n",
              "      <td>SEPSIS BACTERIANA DEL RECIEN NACIDO, NO ESPECI...</td>\n",
              "      <td>Infecciones específicas del período perinatal</td>\n",
              "      <td>Sepsis bacteriana del recién nacido</td>\n",
              "      <td>No aplica</td>\n",
              "    </tr>\n",
              "    <tr>\n",
              "      <th>4</th>\n",
              "      <td>2005</td>\n",
              "      <td>Femenino</td>\n",
              "      <td>1.0</td>\n",
              "      <td>Usaquén</td>\n",
              "      <td>00 a 04 años</td>\n",
              "      <td>CONTRIBUTIVO</td>\n",
              "      <td>P369</td>\n",
              "      <td>SEPSIS BACTERIANA DEL RECIEN NACIDO, NO ESPECI...</td>\n",
              "      <td>Infecciones específicas del período perinatal</td>\n",
              "      <td>Sepsis bacteriana del recién nacido</td>\n",
              "      <td>No aplica</td>\n",
              "    </tr>\n",
              "  </tbody>\n",
              "</table>\n",
              "</div>\n",
              "    <div class=\"colab-df-buttons\">\n",
              "\n",
              "  <div class=\"colab-df-container\">\n",
              "    <button class=\"colab-df-convert\" onclick=\"convertToInteractive('df-b8ac09cb-e025-44a8-83fc-fe3c5c6f0776')\"\n",
              "            title=\"Convert this dataframe to an interactive table.\"\n",
              "            style=\"display:none;\">\n",
              "\n",
              "  <svg xmlns=\"http://www.w3.org/2000/svg\" height=\"24px\" viewBox=\"0 -960 960 960\">\n",
              "    <path d=\"M120-120v-720h720v720H120Zm60-500h600v-160H180v160Zm220 220h160v-160H400v160Zm0 220h160v-160H400v160ZM180-400h160v-160H180v160Zm440 0h160v-160H620v160ZM180-180h160v-160H180v160Zm440 0h160v-160H620v160Z\"/>\n",
              "  </svg>\n",
              "    </button>\n",
              "\n",
              "  <style>\n",
              "    .colab-df-container {\n",
              "      display:flex;\n",
              "      gap: 12px;\n",
              "    }\n",
              "\n",
              "    .colab-df-convert {\n",
              "      background-color: #E8F0FE;\n",
              "      border: none;\n",
              "      border-radius: 50%;\n",
              "      cursor: pointer;\n",
              "      display: none;\n",
              "      fill: #1967D2;\n",
              "      height: 32px;\n",
              "      padding: 0 0 0 0;\n",
              "      width: 32px;\n",
              "    }\n",
              "\n",
              "    .colab-df-convert:hover {\n",
              "      background-color: #E2EBFA;\n",
              "      box-shadow: 0px 1px 2px rgba(60, 64, 67, 0.3), 0px 1px 3px 1px rgba(60, 64, 67, 0.15);\n",
              "      fill: #174EA6;\n",
              "    }\n",
              "\n",
              "    .colab-df-buttons div {\n",
              "      margin-bottom: 4px;\n",
              "    }\n",
              "\n",
              "    [theme=dark] .colab-df-convert {\n",
              "      background-color: #3B4455;\n",
              "      fill: #D2E3FC;\n",
              "    }\n",
              "\n",
              "    [theme=dark] .colab-df-convert:hover {\n",
              "      background-color: #434B5C;\n",
              "      box-shadow: 0px 1px 3px 1px rgba(0, 0, 0, 0.15);\n",
              "      filter: drop-shadow(0px 1px 2px rgba(0, 0, 0, 0.3));\n",
              "      fill: #FFFFFF;\n",
              "    }\n",
              "  </style>\n",
              "\n",
              "    <script>\n",
              "      const buttonEl =\n",
              "        document.querySelector('#df-b8ac09cb-e025-44a8-83fc-fe3c5c6f0776 button.colab-df-convert');\n",
              "      buttonEl.style.display =\n",
              "        google.colab.kernel.accessAllowed ? 'block' : 'none';\n",
              "\n",
              "      async function convertToInteractive(key) {\n",
              "        const element = document.querySelector('#df-b8ac09cb-e025-44a8-83fc-fe3c5c6f0776');\n",
              "        const dataTable =\n",
              "          await google.colab.kernel.invokeFunction('convertToInteractive',\n",
              "                                                    [key], {});\n",
              "        if (!dataTable) return;\n",
              "\n",
              "        const docLinkHtml = 'Like what you see? Visit the ' +\n",
              "          '<a target=\"_blank\" href=https://colab.research.google.com/notebooks/data_table.ipynb>data table notebook</a>'\n",
              "          + ' to learn more about interactive tables.';\n",
              "        element.innerHTML = '';\n",
              "        dataTable['output_type'] = 'display_data';\n",
              "        await google.colab.output.renderOutput(dataTable, element);\n",
              "        const docLink = document.createElement('div');\n",
              "        docLink.innerHTML = docLinkHtml;\n",
              "        element.appendChild(docLink);\n",
              "      }\n",
              "    </script>\n",
              "  </div>\n",
              "\n",
              "\n",
              "<div id=\"df-24a1d18c-23a9-4cd5-8c34-eab2e05ff469\">\n",
              "  <button class=\"colab-df-quickchart\" onclick=\"quickchart('df-24a1d18c-23a9-4cd5-8c34-eab2e05ff469')\"\n",
              "            title=\"Suggest charts\"\n",
              "            style=\"display:none;\">\n",
              "\n",
              "<svg xmlns=\"http://www.w3.org/2000/svg\" height=\"24px\"viewBox=\"0 0 24 24\"\n",
              "     width=\"24px\">\n",
              "    <g>\n",
              "        <path d=\"M19 3H5c-1.1 0-2 .9-2 2v14c0 1.1.9 2 2 2h14c1.1 0 2-.9 2-2V5c0-1.1-.9-2-2-2zM9 17H7v-7h2v7zm4 0h-2V7h2v10zm4 0h-2v-4h2v4z\"/>\n",
              "    </g>\n",
              "</svg>\n",
              "  </button>\n",
              "\n",
              "<style>\n",
              "  .colab-df-quickchart {\n",
              "      --bg-color: #E8F0FE;\n",
              "      --fill-color: #1967D2;\n",
              "      --hover-bg-color: #E2EBFA;\n",
              "      --hover-fill-color: #174EA6;\n",
              "      --disabled-fill-color: #AAA;\n",
              "      --disabled-bg-color: #DDD;\n",
              "  }\n",
              "\n",
              "  [theme=dark] .colab-df-quickchart {\n",
              "      --bg-color: #3B4455;\n",
              "      --fill-color: #D2E3FC;\n",
              "      --hover-bg-color: #434B5C;\n",
              "      --hover-fill-color: #FFFFFF;\n",
              "      --disabled-bg-color: #3B4455;\n",
              "      --disabled-fill-color: #666;\n",
              "  }\n",
              "\n",
              "  .colab-df-quickchart {\n",
              "    background-color: var(--bg-color);\n",
              "    border: none;\n",
              "    border-radius: 50%;\n",
              "    cursor: pointer;\n",
              "    display: none;\n",
              "    fill: var(--fill-color);\n",
              "    height: 32px;\n",
              "    padding: 0;\n",
              "    width: 32px;\n",
              "  }\n",
              "\n",
              "  .colab-df-quickchart:hover {\n",
              "    background-color: var(--hover-bg-color);\n",
              "    box-shadow: 0 1px 2px rgba(60, 64, 67, 0.3), 0 1px 3px 1px rgba(60, 64, 67, 0.15);\n",
              "    fill: var(--button-hover-fill-color);\n",
              "  }\n",
              "\n",
              "  .colab-df-quickchart-complete:disabled,\n",
              "  .colab-df-quickchart-complete:disabled:hover {\n",
              "    background-color: var(--disabled-bg-color);\n",
              "    fill: var(--disabled-fill-color);\n",
              "    box-shadow: none;\n",
              "  }\n",
              "\n",
              "  .colab-df-spinner {\n",
              "    border: 2px solid var(--fill-color);\n",
              "    border-color: transparent;\n",
              "    border-bottom-color: var(--fill-color);\n",
              "    animation:\n",
              "      spin 1s steps(1) infinite;\n",
              "  }\n",
              "\n",
              "  @keyframes spin {\n",
              "    0% {\n",
              "      border-color: transparent;\n",
              "      border-bottom-color: var(--fill-color);\n",
              "      border-left-color: var(--fill-color);\n",
              "    }\n",
              "    20% {\n",
              "      border-color: transparent;\n",
              "      border-left-color: var(--fill-color);\n",
              "      border-top-color: var(--fill-color);\n",
              "    }\n",
              "    30% {\n",
              "      border-color: transparent;\n",
              "      border-left-color: var(--fill-color);\n",
              "      border-top-color: var(--fill-color);\n",
              "      border-right-color: var(--fill-color);\n",
              "    }\n",
              "    40% {\n",
              "      border-color: transparent;\n",
              "      border-right-color: var(--fill-color);\n",
              "      border-top-color: var(--fill-color);\n",
              "    }\n",
              "    60% {\n",
              "      border-color: transparent;\n",
              "      border-right-color: var(--fill-color);\n",
              "    }\n",
              "    80% {\n",
              "      border-color: transparent;\n",
              "      border-right-color: var(--fill-color);\n",
              "      border-bottom-color: var(--fill-color);\n",
              "    }\n",
              "    90% {\n",
              "      border-color: transparent;\n",
              "      border-bottom-color: var(--fill-color);\n",
              "    }\n",
              "  }\n",
              "</style>\n",
              "\n",
              "  <script>\n",
              "    async function quickchart(key) {\n",
              "      const quickchartButtonEl =\n",
              "        document.querySelector('#' + key + ' button');\n",
              "      quickchartButtonEl.disabled = true;  // To prevent multiple clicks.\n",
              "      quickchartButtonEl.classList.add('colab-df-spinner');\n",
              "      try {\n",
              "        const charts = await google.colab.kernel.invokeFunction(\n",
              "            'suggestCharts', [key], {});\n",
              "      } catch (error) {\n",
              "        console.error('Error during call to suggestCharts:', error);\n",
              "      }\n",
              "      quickchartButtonEl.classList.remove('colab-df-spinner');\n",
              "      quickchartButtonEl.classList.add('colab-df-quickchart-complete');\n",
              "    }\n",
              "    (() => {\n",
              "      let quickchartButtonEl =\n",
              "        document.querySelector('#df-24a1d18c-23a9-4cd5-8c34-eab2e05ff469 button');\n",
              "      quickchartButtonEl.style.display =\n",
              "        google.colab.kernel.accessAllowed ? 'block' : 'none';\n",
              "    })();\n",
              "  </script>\n",
              "</div>\n",
              "    </div>\n",
              "  </div>\n"
            ]
          },
          "metadata": {},
          "execution_count": 7
        }
      ]
    },
    {
      "cell_type": "code",
      "execution_count": 8,
      "id": "0a9157a2",
      "metadata": {
        "id": "0a9157a2",
        "outputId": "af75e240-ff28-4ab3-84e2-be7e13d1c585",
        "colab": {
          "base_uri": "https://localhost:8080/",
          "height": 206
        }
      },
      "outputs": [
        {
          "output_type": "execute_result",
          "data": {
            "text/plain": [
              "      ANIO       SEXO LOCALIDAD_NOMBRE MORTALIDAD_CODIGO_CIE10\n",
              "4861  2005  Masculino             Usme                    J42X\n",
              "5034  2005  Masculino             Usme                    J448\n",
              "5080  2005  Masculino             Usme                    J449\n",
              "5081  2005  Masculino             Usme                    J441\n",
              "5082  2005  Masculino             Usme                    J449"
            ],
            "text/html": [
              "\n",
              "  <div id=\"df-6759d12f-eb38-4ebf-84a8-c34971eee6f2\" class=\"colab-df-container\">\n",
              "    <div>\n",
              "<style scoped>\n",
              "    .dataframe tbody tr th:only-of-type {\n",
              "        vertical-align: middle;\n",
              "    }\n",
              "\n",
              "    .dataframe tbody tr th {\n",
              "        vertical-align: top;\n",
              "    }\n",
              "\n",
              "    .dataframe thead th {\n",
              "        text-align: right;\n",
              "    }\n",
              "</style>\n",
              "<table border=\"1\" class=\"dataframe\">\n",
              "  <thead>\n",
              "    <tr style=\"text-align: right;\">\n",
              "      <th></th>\n",
              "      <th>ANIO</th>\n",
              "      <th>SEXO</th>\n",
              "      <th>LOCALIDAD_NOMBRE</th>\n",
              "      <th>MORTALIDAD_CODIGO_CIE10</th>\n",
              "    </tr>\n",
              "  </thead>\n",
              "  <tbody>\n",
              "    <tr>\n",
              "      <th>4861</th>\n",
              "      <td>2005</td>\n",
              "      <td>Masculino</td>\n",
              "      <td>Usme</td>\n",
              "      <td>J42X</td>\n",
              "    </tr>\n",
              "    <tr>\n",
              "      <th>5034</th>\n",
              "      <td>2005</td>\n",
              "      <td>Masculino</td>\n",
              "      <td>Usme</td>\n",
              "      <td>J448</td>\n",
              "    </tr>\n",
              "    <tr>\n",
              "      <th>5080</th>\n",
              "      <td>2005</td>\n",
              "      <td>Masculino</td>\n",
              "      <td>Usme</td>\n",
              "      <td>J449</td>\n",
              "    </tr>\n",
              "    <tr>\n",
              "      <th>5081</th>\n",
              "      <td>2005</td>\n",
              "      <td>Masculino</td>\n",
              "      <td>Usme</td>\n",
              "      <td>J441</td>\n",
              "    </tr>\n",
              "    <tr>\n",
              "      <th>5082</th>\n",
              "      <td>2005</td>\n",
              "      <td>Masculino</td>\n",
              "      <td>Usme</td>\n",
              "      <td>J449</td>\n",
              "    </tr>\n",
              "  </tbody>\n",
              "</table>\n",
              "</div>\n",
              "    <div class=\"colab-df-buttons\">\n",
              "\n",
              "  <div class=\"colab-df-container\">\n",
              "    <button class=\"colab-df-convert\" onclick=\"convertToInteractive('df-6759d12f-eb38-4ebf-84a8-c34971eee6f2')\"\n",
              "            title=\"Convert this dataframe to an interactive table.\"\n",
              "            style=\"display:none;\">\n",
              "\n",
              "  <svg xmlns=\"http://www.w3.org/2000/svg\" height=\"24px\" viewBox=\"0 -960 960 960\">\n",
              "    <path d=\"M120-120v-720h720v720H120Zm60-500h600v-160H180v160Zm220 220h160v-160H400v160Zm0 220h160v-160H400v160ZM180-400h160v-160H180v160Zm440 0h160v-160H620v160ZM180-180h160v-160H180v160Zm440 0h160v-160H620v160Z\"/>\n",
              "  </svg>\n",
              "    </button>\n",
              "\n",
              "  <style>\n",
              "    .colab-df-container {\n",
              "      display:flex;\n",
              "      gap: 12px;\n",
              "    }\n",
              "\n",
              "    .colab-df-convert {\n",
              "      background-color: #E8F0FE;\n",
              "      border: none;\n",
              "      border-radius: 50%;\n",
              "      cursor: pointer;\n",
              "      display: none;\n",
              "      fill: #1967D2;\n",
              "      height: 32px;\n",
              "      padding: 0 0 0 0;\n",
              "      width: 32px;\n",
              "    }\n",
              "\n",
              "    .colab-df-convert:hover {\n",
              "      background-color: #E2EBFA;\n",
              "      box-shadow: 0px 1px 2px rgba(60, 64, 67, 0.3), 0px 1px 3px 1px rgba(60, 64, 67, 0.15);\n",
              "      fill: #174EA6;\n",
              "    }\n",
              "\n",
              "    .colab-df-buttons div {\n",
              "      margin-bottom: 4px;\n",
              "    }\n",
              "\n",
              "    [theme=dark] .colab-df-convert {\n",
              "      background-color: #3B4455;\n",
              "      fill: #D2E3FC;\n",
              "    }\n",
              "\n",
              "    [theme=dark] .colab-df-convert:hover {\n",
              "      background-color: #434B5C;\n",
              "      box-shadow: 0px 1px 3px 1px rgba(0, 0, 0, 0.15);\n",
              "      filter: drop-shadow(0px 1px 2px rgba(0, 0, 0, 0.3));\n",
              "      fill: #FFFFFF;\n",
              "    }\n",
              "  </style>\n",
              "\n",
              "    <script>\n",
              "      const buttonEl =\n",
              "        document.querySelector('#df-6759d12f-eb38-4ebf-84a8-c34971eee6f2 button.colab-df-convert');\n",
              "      buttonEl.style.display =\n",
              "        google.colab.kernel.accessAllowed ? 'block' : 'none';\n",
              "\n",
              "      async function convertToInteractive(key) {\n",
              "        const element = document.querySelector('#df-6759d12f-eb38-4ebf-84a8-c34971eee6f2');\n",
              "        const dataTable =\n",
              "          await google.colab.kernel.invokeFunction('convertToInteractive',\n",
              "                                                    [key], {});\n",
              "        if (!dataTable) return;\n",
              "\n",
              "        const docLinkHtml = 'Like what you see? Visit the ' +\n",
              "          '<a target=\"_blank\" href=https://colab.research.google.com/notebooks/data_table.ipynb>data table notebook</a>'\n",
              "          + ' to learn more about interactive tables.';\n",
              "        element.innerHTML = '';\n",
              "        dataTable['output_type'] = 'display_data';\n",
              "        await google.colab.output.renderOutput(dataTable, element);\n",
              "        const docLink = document.createElement('div');\n",
              "        docLink.innerHTML = docLinkHtml;\n",
              "        element.appendChild(docLink);\n",
              "      }\n",
              "    </script>\n",
              "  </div>\n",
              "\n",
              "\n",
              "<div id=\"df-3d3a03ec-04a9-47d2-8e09-a48bf08f6e46\">\n",
              "  <button class=\"colab-df-quickchart\" onclick=\"quickchart('df-3d3a03ec-04a9-47d2-8e09-a48bf08f6e46')\"\n",
              "            title=\"Suggest charts\"\n",
              "            style=\"display:none;\">\n",
              "\n",
              "<svg xmlns=\"http://www.w3.org/2000/svg\" height=\"24px\"viewBox=\"0 0 24 24\"\n",
              "     width=\"24px\">\n",
              "    <g>\n",
              "        <path d=\"M19 3H5c-1.1 0-2 .9-2 2v14c0 1.1.9 2 2 2h14c1.1 0 2-.9 2-2V5c0-1.1-.9-2-2-2zM9 17H7v-7h2v7zm4 0h-2V7h2v10zm4 0h-2v-4h2v4z\"/>\n",
              "    </g>\n",
              "</svg>\n",
              "  </button>\n",
              "\n",
              "<style>\n",
              "  .colab-df-quickchart {\n",
              "      --bg-color: #E8F0FE;\n",
              "      --fill-color: #1967D2;\n",
              "      --hover-bg-color: #E2EBFA;\n",
              "      --hover-fill-color: #174EA6;\n",
              "      --disabled-fill-color: #AAA;\n",
              "      --disabled-bg-color: #DDD;\n",
              "  }\n",
              "\n",
              "  [theme=dark] .colab-df-quickchart {\n",
              "      --bg-color: #3B4455;\n",
              "      --fill-color: #D2E3FC;\n",
              "      --hover-bg-color: #434B5C;\n",
              "      --hover-fill-color: #FFFFFF;\n",
              "      --disabled-bg-color: #3B4455;\n",
              "      --disabled-fill-color: #666;\n",
              "  }\n",
              "\n",
              "  .colab-df-quickchart {\n",
              "    background-color: var(--bg-color);\n",
              "    border: none;\n",
              "    border-radius: 50%;\n",
              "    cursor: pointer;\n",
              "    display: none;\n",
              "    fill: var(--fill-color);\n",
              "    height: 32px;\n",
              "    padding: 0;\n",
              "    width: 32px;\n",
              "  }\n",
              "\n",
              "  .colab-df-quickchart:hover {\n",
              "    background-color: var(--hover-bg-color);\n",
              "    box-shadow: 0 1px 2px rgba(60, 64, 67, 0.3), 0 1px 3px 1px rgba(60, 64, 67, 0.15);\n",
              "    fill: var(--button-hover-fill-color);\n",
              "  }\n",
              "\n",
              "  .colab-df-quickchart-complete:disabled,\n",
              "  .colab-df-quickchart-complete:disabled:hover {\n",
              "    background-color: var(--disabled-bg-color);\n",
              "    fill: var(--disabled-fill-color);\n",
              "    box-shadow: none;\n",
              "  }\n",
              "\n",
              "  .colab-df-spinner {\n",
              "    border: 2px solid var(--fill-color);\n",
              "    border-color: transparent;\n",
              "    border-bottom-color: var(--fill-color);\n",
              "    animation:\n",
              "      spin 1s steps(1) infinite;\n",
              "  }\n",
              "\n",
              "  @keyframes spin {\n",
              "    0% {\n",
              "      border-color: transparent;\n",
              "      border-bottom-color: var(--fill-color);\n",
              "      border-left-color: var(--fill-color);\n",
              "    }\n",
              "    20% {\n",
              "      border-color: transparent;\n",
              "      border-left-color: var(--fill-color);\n",
              "      border-top-color: var(--fill-color);\n",
              "    }\n",
              "    30% {\n",
              "      border-color: transparent;\n",
              "      border-left-color: var(--fill-color);\n",
              "      border-top-color: var(--fill-color);\n",
              "      border-right-color: var(--fill-color);\n",
              "    }\n",
              "    40% {\n",
              "      border-color: transparent;\n",
              "      border-right-color: var(--fill-color);\n",
              "      border-top-color: var(--fill-color);\n",
              "    }\n",
              "    60% {\n",
              "      border-color: transparent;\n",
              "      border-right-color: var(--fill-color);\n",
              "    }\n",
              "    80% {\n",
              "      border-color: transparent;\n",
              "      border-right-color: var(--fill-color);\n",
              "      border-bottom-color: var(--fill-color);\n",
              "    }\n",
              "    90% {\n",
              "      border-color: transparent;\n",
              "      border-bottom-color: var(--fill-color);\n",
              "    }\n",
              "  }\n",
              "</style>\n",
              "\n",
              "  <script>\n",
              "    async function quickchart(key) {\n",
              "      const quickchartButtonEl =\n",
              "        document.querySelector('#' + key + ' button');\n",
              "      quickchartButtonEl.disabled = true;  // To prevent multiple clicks.\n",
              "      quickchartButtonEl.classList.add('colab-df-spinner');\n",
              "      try {\n",
              "        const charts = await google.colab.kernel.invokeFunction(\n",
              "            'suggestCharts', [key], {});\n",
              "      } catch (error) {\n",
              "        console.error('Error during call to suggestCharts:', error);\n",
              "      }\n",
              "      quickchartButtonEl.classList.remove('colab-df-spinner');\n",
              "      quickchartButtonEl.classList.add('colab-df-quickchart-complete');\n",
              "    }\n",
              "    (() => {\n",
              "      let quickchartButtonEl =\n",
              "        document.querySelector('#df-3d3a03ec-04a9-47d2-8e09-a48bf08f6e46 button');\n",
              "      quickchartButtonEl.style.display =\n",
              "        google.colab.kernel.accessAllowed ? 'block' : 'none';\n",
              "    })();\n",
              "  </script>\n",
              "</div>\n",
              "    </div>\n",
              "  </div>\n"
            ]
          },
          "metadata": {},
          "execution_count": 8
        }
      ],
      "source": [
        "data = dataini\n",
        "\n",
        "data = data.drop(['LOCALIDAD_CODIGO','SEGURIDAD_SOCIAL_REGIMEN','MORTALIDAD_DESCRIPCION_105', 'MORTALIDAD_DESCRIPCION_667', 'MORTALIDAD_CONDICION_CRONICA', 'EDAD_GRUPO' ,'MORTALIDAD_DESCRIPCION_CIE10'], axis=1)\n",
        "\n",
        "# Filtrar por códigos específicos en la columna 'MORTALIDAD_CODIGO_CIE10' y localidades específicas\n",
        "#J449 ENFERMEDAD PULMONAR OBSTRUCTIVA CRONICA, NO ESPECIFICADA.\n",
        "#J441 ENFERMEDAD PULMONAR OBSTRUCTIVA CRONICA CON EXACERBACION AGUDA, NO ESPECIFICADA\n",
        "#J440 ENFERMEDAD PULMONAR OBSTRUCTIVA CRONICA CON INFECCION AGUDA DE LAS VIAS RESPIRATORIAS INFERIORES\n",
        "#J42X BRONQUITIS CRONICA NO ESPECIFICADA\n",
        "#J448 OTRAS ENFERMEDADES PULMONARES OBSTRUCTIVAS CRONICAS ESPECIFICADAS\n",
        "#J439 ENFISEMA, NO ESPECIFICADO\n",
        "#J431 ENFISEMA PANLOBULAR\n",
        "#P250 ENFISEMA INTERSTICIAL ORIGINADO EN EL PERIODO PERINATAL\n",
        "#J432 ENFISEMA CENTROLOBULAR\n",
        "#J983 ENFISEMA COMPENSATORIO\n",
        "#J982 ENFISEMA INTERSTICIAL\n",
        "#P258 OTRAS AFECCIONES RELACIONADAS CON EL ENFISEMA INTERSTICIAL, ORIGINADAS EN EL PERIODO PERINATAL\n",
        "\n",
        "codigos_deseados = ['J449', 'J441', 'J440', 'J42X', 'J448', 'J439', 'J431', 'P250', 'J432', 'J983', 'J982', 'P258']\n",
        "localidades_deseadas = ['Ciudad Bolívar', 'Usme', 'Kennedy','Suba', 'Puente Aranda']\n",
        "genero_deseado = ['Masculino','Femenino']\n",
        "\n",
        "data = data[(data['MORTALIDAD_CODIGO_CIE10'].isin(codigos_deseados)) & (data['LOCALIDAD_NOMBRE'].isin(localidades_deseadas)) & (data['SEXO'].isin(genero_deseado))]\n",
        "\n",
        "data.to_csv('/content/drive/MyDrive/data/resultados_mortalidad_por_genero_epoc.csv', index=False)\n",
        "\n",
        "\n",
        "data.head()"
      ]
    },
    {
      "cell_type": "code",
      "execution_count": 9,
      "id": "364abe43",
      "metadata": {
        "id": "364abe43",
        "outputId": "24e4eafa-6990-458f-c300-18f537438ac6",
        "colab": {
          "base_uri": "https://localhost:8080/",
          "height": 244
        }
      },
      "outputs": [
        {
          "output_type": "execute_result",
          "data": {
            "text/plain": [
              "      ANIO       SEXO  LOCALIDAD_NOMBRE_Ciudad Bolívar  \\\n",
              "4861  2005  Masculino                                0   \n",
              "5034  2005  Masculino                                0   \n",
              "5080  2005  Masculino                                0   \n",
              "5081  2005  Masculino                                0   \n",
              "5082  2005  Masculino                                0   \n",
              "\n",
              "      LOCALIDAD_NOMBRE_Kennedy  LOCALIDAD_NOMBRE_Puente Aranda  \\\n",
              "4861                         0                               0   \n",
              "5034                         0                               0   \n",
              "5080                         0                               0   \n",
              "5081                         0                               0   \n",
              "5082                         0                               0   \n",
              "\n",
              "      LOCALIDAD_NOMBRE_Suba  LOCALIDAD_NOMBRE_Usme  \\\n",
              "4861                      0                      1   \n",
              "5034                      0                      1   \n",
              "5080                      0                      1   \n",
              "5081                      0                      1   \n",
              "5082                      0                      1   \n",
              "\n",
              "      MORTALIDAD_CODIGO_CIE10_J42X  MORTALIDAD_CODIGO_CIE10_J431  \\\n",
              "4861                             1                             0   \n",
              "5034                             0                             0   \n",
              "5080                             0                             0   \n",
              "5081                             0                             0   \n",
              "5082                             0                             0   \n",
              "\n",
              "      MORTALIDAD_CODIGO_CIE10_J432  MORTALIDAD_CODIGO_CIE10_J439  \\\n",
              "4861                             0                             0   \n",
              "5034                             0                             0   \n",
              "5080                             0                             0   \n",
              "5081                             0                             0   \n",
              "5082                             0                             0   \n",
              "\n",
              "      MORTALIDAD_CODIGO_CIE10_J440  MORTALIDAD_CODIGO_CIE10_J441  \\\n",
              "4861                             0                             0   \n",
              "5034                             0                             0   \n",
              "5080                             0                             0   \n",
              "5081                             0                             1   \n",
              "5082                             0                             0   \n",
              "\n",
              "      MORTALIDAD_CODIGO_CIE10_J448  MORTALIDAD_CODIGO_CIE10_J449  \\\n",
              "4861                             0                             0   \n",
              "5034                             1                             0   \n",
              "5080                             0                             1   \n",
              "5081                             0                             0   \n",
              "5082                             0                             1   \n",
              "\n",
              "      MORTALIDAD_CODIGO_CIE10_J982  MORTALIDAD_CODIGO_CIE10_P250  \n",
              "4861                             0                             0  \n",
              "5034                             0                             0  \n",
              "5080                             0                             0  \n",
              "5081                             0                             0  \n",
              "5082                             0                             0  "
            ],
            "text/html": [
              "\n",
              "  <div id=\"df-fea0e1c4-ef12-47a7-a75a-c457fdb644a4\" class=\"colab-df-container\">\n",
              "    <div>\n",
              "<style scoped>\n",
              "    .dataframe tbody tr th:only-of-type {\n",
              "        vertical-align: middle;\n",
              "    }\n",
              "\n",
              "    .dataframe tbody tr th {\n",
              "        vertical-align: top;\n",
              "    }\n",
              "\n",
              "    .dataframe thead th {\n",
              "        text-align: right;\n",
              "    }\n",
              "</style>\n",
              "<table border=\"1\" class=\"dataframe\">\n",
              "  <thead>\n",
              "    <tr style=\"text-align: right;\">\n",
              "      <th></th>\n",
              "      <th>ANIO</th>\n",
              "      <th>SEXO</th>\n",
              "      <th>LOCALIDAD_NOMBRE_Ciudad Bolívar</th>\n",
              "      <th>LOCALIDAD_NOMBRE_Kennedy</th>\n",
              "      <th>LOCALIDAD_NOMBRE_Puente Aranda</th>\n",
              "      <th>LOCALIDAD_NOMBRE_Suba</th>\n",
              "      <th>LOCALIDAD_NOMBRE_Usme</th>\n",
              "      <th>MORTALIDAD_CODIGO_CIE10_J42X</th>\n",
              "      <th>MORTALIDAD_CODIGO_CIE10_J431</th>\n",
              "      <th>MORTALIDAD_CODIGO_CIE10_J432</th>\n",
              "      <th>MORTALIDAD_CODIGO_CIE10_J439</th>\n",
              "      <th>MORTALIDAD_CODIGO_CIE10_J440</th>\n",
              "      <th>MORTALIDAD_CODIGO_CIE10_J441</th>\n",
              "      <th>MORTALIDAD_CODIGO_CIE10_J448</th>\n",
              "      <th>MORTALIDAD_CODIGO_CIE10_J449</th>\n",
              "      <th>MORTALIDAD_CODIGO_CIE10_J982</th>\n",
              "      <th>MORTALIDAD_CODIGO_CIE10_P250</th>\n",
              "    </tr>\n",
              "  </thead>\n",
              "  <tbody>\n",
              "    <tr>\n",
              "      <th>4861</th>\n",
              "      <td>2005</td>\n",
              "      <td>Masculino</td>\n",
              "      <td>0</td>\n",
              "      <td>0</td>\n",
              "      <td>0</td>\n",
              "      <td>0</td>\n",
              "      <td>1</td>\n",
              "      <td>1</td>\n",
              "      <td>0</td>\n",
              "      <td>0</td>\n",
              "      <td>0</td>\n",
              "      <td>0</td>\n",
              "      <td>0</td>\n",
              "      <td>0</td>\n",
              "      <td>0</td>\n",
              "      <td>0</td>\n",
              "      <td>0</td>\n",
              "    </tr>\n",
              "    <tr>\n",
              "      <th>5034</th>\n",
              "      <td>2005</td>\n",
              "      <td>Masculino</td>\n",
              "      <td>0</td>\n",
              "      <td>0</td>\n",
              "      <td>0</td>\n",
              "      <td>0</td>\n",
              "      <td>1</td>\n",
              "      <td>0</td>\n",
              "      <td>0</td>\n",
              "      <td>0</td>\n",
              "      <td>0</td>\n",
              "      <td>0</td>\n",
              "      <td>0</td>\n",
              "      <td>1</td>\n",
              "      <td>0</td>\n",
              "      <td>0</td>\n",
              "      <td>0</td>\n",
              "    </tr>\n",
              "    <tr>\n",
              "      <th>5080</th>\n",
              "      <td>2005</td>\n",
              "      <td>Masculino</td>\n",
              "      <td>0</td>\n",
              "      <td>0</td>\n",
              "      <td>0</td>\n",
              "      <td>0</td>\n",
              "      <td>1</td>\n",
              "      <td>0</td>\n",
              "      <td>0</td>\n",
              "      <td>0</td>\n",
              "      <td>0</td>\n",
              "      <td>0</td>\n",
              "      <td>0</td>\n",
              "      <td>0</td>\n",
              "      <td>1</td>\n",
              "      <td>0</td>\n",
              "      <td>0</td>\n",
              "    </tr>\n",
              "    <tr>\n",
              "      <th>5081</th>\n",
              "      <td>2005</td>\n",
              "      <td>Masculino</td>\n",
              "      <td>0</td>\n",
              "      <td>0</td>\n",
              "      <td>0</td>\n",
              "      <td>0</td>\n",
              "      <td>1</td>\n",
              "      <td>0</td>\n",
              "      <td>0</td>\n",
              "      <td>0</td>\n",
              "      <td>0</td>\n",
              "      <td>0</td>\n",
              "      <td>1</td>\n",
              "      <td>0</td>\n",
              "      <td>0</td>\n",
              "      <td>0</td>\n",
              "      <td>0</td>\n",
              "    </tr>\n",
              "    <tr>\n",
              "      <th>5082</th>\n",
              "      <td>2005</td>\n",
              "      <td>Masculino</td>\n",
              "      <td>0</td>\n",
              "      <td>0</td>\n",
              "      <td>0</td>\n",
              "      <td>0</td>\n",
              "      <td>1</td>\n",
              "      <td>0</td>\n",
              "      <td>0</td>\n",
              "      <td>0</td>\n",
              "      <td>0</td>\n",
              "      <td>0</td>\n",
              "      <td>0</td>\n",
              "      <td>0</td>\n",
              "      <td>1</td>\n",
              "      <td>0</td>\n",
              "      <td>0</td>\n",
              "    </tr>\n",
              "  </tbody>\n",
              "</table>\n",
              "</div>\n",
              "    <div class=\"colab-df-buttons\">\n",
              "\n",
              "  <div class=\"colab-df-container\">\n",
              "    <button class=\"colab-df-convert\" onclick=\"convertToInteractive('df-fea0e1c4-ef12-47a7-a75a-c457fdb644a4')\"\n",
              "            title=\"Convert this dataframe to an interactive table.\"\n",
              "            style=\"display:none;\">\n",
              "\n",
              "  <svg xmlns=\"http://www.w3.org/2000/svg\" height=\"24px\" viewBox=\"0 -960 960 960\">\n",
              "    <path d=\"M120-120v-720h720v720H120Zm60-500h600v-160H180v160Zm220 220h160v-160H400v160Zm0 220h160v-160H400v160ZM180-400h160v-160H180v160Zm440 0h160v-160H620v160ZM180-180h160v-160H180v160Zm440 0h160v-160H620v160Z\"/>\n",
              "  </svg>\n",
              "    </button>\n",
              "\n",
              "  <style>\n",
              "    .colab-df-container {\n",
              "      display:flex;\n",
              "      gap: 12px;\n",
              "    }\n",
              "\n",
              "    .colab-df-convert {\n",
              "      background-color: #E8F0FE;\n",
              "      border: none;\n",
              "      border-radius: 50%;\n",
              "      cursor: pointer;\n",
              "      display: none;\n",
              "      fill: #1967D2;\n",
              "      height: 32px;\n",
              "      padding: 0 0 0 0;\n",
              "      width: 32px;\n",
              "    }\n",
              "\n",
              "    .colab-df-convert:hover {\n",
              "      background-color: #E2EBFA;\n",
              "      box-shadow: 0px 1px 2px rgba(60, 64, 67, 0.3), 0px 1px 3px 1px rgba(60, 64, 67, 0.15);\n",
              "      fill: #174EA6;\n",
              "    }\n",
              "\n",
              "    .colab-df-buttons div {\n",
              "      margin-bottom: 4px;\n",
              "    }\n",
              "\n",
              "    [theme=dark] .colab-df-convert {\n",
              "      background-color: #3B4455;\n",
              "      fill: #D2E3FC;\n",
              "    }\n",
              "\n",
              "    [theme=dark] .colab-df-convert:hover {\n",
              "      background-color: #434B5C;\n",
              "      box-shadow: 0px 1px 3px 1px rgba(0, 0, 0, 0.15);\n",
              "      filter: drop-shadow(0px 1px 2px rgba(0, 0, 0, 0.3));\n",
              "      fill: #FFFFFF;\n",
              "    }\n",
              "  </style>\n",
              "\n",
              "    <script>\n",
              "      const buttonEl =\n",
              "        document.querySelector('#df-fea0e1c4-ef12-47a7-a75a-c457fdb644a4 button.colab-df-convert');\n",
              "      buttonEl.style.display =\n",
              "        google.colab.kernel.accessAllowed ? 'block' : 'none';\n",
              "\n",
              "      async function convertToInteractive(key) {\n",
              "        const element = document.querySelector('#df-fea0e1c4-ef12-47a7-a75a-c457fdb644a4');\n",
              "        const dataTable =\n",
              "          await google.colab.kernel.invokeFunction('convertToInteractive',\n",
              "                                                    [key], {});\n",
              "        if (!dataTable) return;\n",
              "\n",
              "        const docLinkHtml = 'Like what you see? Visit the ' +\n",
              "          '<a target=\"_blank\" href=https://colab.research.google.com/notebooks/data_table.ipynb>data table notebook</a>'\n",
              "          + ' to learn more about interactive tables.';\n",
              "        element.innerHTML = '';\n",
              "        dataTable['output_type'] = 'display_data';\n",
              "        await google.colab.output.renderOutput(dataTable, element);\n",
              "        const docLink = document.createElement('div');\n",
              "        docLink.innerHTML = docLinkHtml;\n",
              "        element.appendChild(docLink);\n",
              "      }\n",
              "    </script>\n",
              "  </div>\n",
              "\n",
              "\n",
              "<div id=\"df-eec815ed-bca6-424e-b667-8be8bf3344d6\">\n",
              "  <button class=\"colab-df-quickchart\" onclick=\"quickchart('df-eec815ed-bca6-424e-b667-8be8bf3344d6')\"\n",
              "            title=\"Suggest charts\"\n",
              "            style=\"display:none;\">\n",
              "\n",
              "<svg xmlns=\"http://www.w3.org/2000/svg\" height=\"24px\"viewBox=\"0 0 24 24\"\n",
              "     width=\"24px\">\n",
              "    <g>\n",
              "        <path d=\"M19 3H5c-1.1 0-2 .9-2 2v14c0 1.1.9 2 2 2h14c1.1 0 2-.9 2-2V5c0-1.1-.9-2-2-2zM9 17H7v-7h2v7zm4 0h-2V7h2v10zm4 0h-2v-4h2v4z\"/>\n",
              "    </g>\n",
              "</svg>\n",
              "  </button>\n",
              "\n",
              "<style>\n",
              "  .colab-df-quickchart {\n",
              "      --bg-color: #E8F0FE;\n",
              "      --fill-color: #1967D2;\n",
              "      --hover-bg-color: #E2EBFA;\n",
              "      --hover-fill-color: #174EA6;\n",
              "      --disabled-fill-color: #AAA;\n",
              "      --disabled-bg-color: #DDD;\n",
              "  }\n",
              "\n",
              "  [theme=dark] .colab-df-quickchart {\n",
              "      --bg-color: #3B4455;\n",
              "      --fill-color: #D2E3FC;\n",
              "      --hover-bg-color: #434B5C;\n",
              "      --hover-fill-color: #FFFFFF;\n",
              "      --disabled-bg-color: #3B4455;\n",
              "      --disabled-fill-color: #666;\n",
              "  }\n",
              "\n",
              "  .colab-df-quickchart {\n",
              "    background-color: var(--bg-color);\n",
              "    border: none;\n",
              "    border-radius: 50%;\n",
              "    cursor: pointer;\n",
              "    display: none;\n",
              "    fill: var(--fill-color);\n",
              "    height: 32px;\n",
              "    padding: 0;\n",
              "    width: 32px;\n",
              "  }\n",
              "\n",
              "  .colab-df-quickchart:hover {\n",
              "    background-color: var(--hover-bg-color);\n",
              "    box-shadow: 0 1px 2px rgba(60, 64, 67, 0.3), 0 1px 3px 1px rgba(60, 64, 67, 0.15);\n",
              "    fill: var(--button-hover-fill-color);\n",
              "  }\n",
              "\n",
              "  .colab-df-quickchart-complete:disabled,\n",
              "  .colab-df-quickchart-complete:disabled:hover {\n",
              "    background-color: var(--disabled-bg-color);\n",
              "    fill: var(--disabled-fill-color);\n",
              "    box-shadow: none;\n",
              "  }\n",
              "\n",
              "  .colab-df-spinner {\n",
              "    border: 2px solid var(--fill-color);\n",
              "    border-color: transparent;\n",
              "    border-bottom-color: var(--fill-color);\n",
              "    animation:\n",
              "      spin 1s steps(1) infinite;\n",
              "  }\n",
              "\n",
              "  @keyframes spin {\n",
              "    0% {\n",
              "      border-color: transparent;\n",
              "      border-bottom-color: var(--fill-color);\n",
              "      border-left-color: var(--fill-color);\n",
              "    }\n",
              "    20% {\n",
              "      border-color: transparent;\n",
              "      border-left-color: var(--fill-color);\n",
              "      border-top-color: var(--fill-color);\n",
              "    }\n",
              "    30% {\n",
              "      border-color: transparent;\n",
              "      border-left-color: var(--fill-color);\n",
              "      border-top-color: var(--fill-color);\n",
              "      border-right-color: var(--fill-color);\n",
              "    }\n",
              "    40% {\n",
              "      border-color: transparent;\n",
              "      border-right-color: var(--fill-color);\n",
              "      border-top-color: var(--fill-color);\n",
              "    }\n",
              "    60% {\n",
              "      border-color: transparent;\n",
              "      border-right-color: var(--fill-color);\n",
              "    }\n",
              "    80% {\n",
              "      border-color: transparent;\n",
              "      border-right-color: var(--fill-color);\n",
              "      border-bottom-color: var(--fill-color);\n",
              "    }\n",
              "    90% {\n",
              "      border-color: transparent;\n",
              "      border-bottom-color: var(--fill-color);\n",
              "    }\n",
              "  }\n",
              "</style>\n",
              "\n",
              "  <script>\n",
              "    async function quickchart(key) {\n",
              "      const quickchartButtonEl =\n",
              "        document.querySelector('#' + key + ' button');\n",
              "      quickchartButtonEl.disabled = true;  // To prevent multiple clicks.\n",
              "      quickchartButtonEl.classList.add('colab-df-spinner');\n",
              "      try {\n",
              "        const charts = await google.colab.kernel.invokeFunction(\n",
              "            'suggestCharts', [key], {});\n",
              "      } catch (error) {\n",
              "        console.error('Error during call to suggestCharts:', error);\n",
              "      }\n",
              "      quickchartButtonEl.classList.remove('colab-df-spinner');\n",
              "      quickchartButtonEl.classList.add('colab-df-quickchart-complete');\n",
              "    }\n",
              "    (() => {\n",
              "      let quickchartButtonEl =\n",
              "        document.querySelector('#df-eec815ed-bca6-424e-b667-8be8bf3344d6 button');\n",
              "      quickchartButtonEl.style.display =\n",
              "        google.colab.kernel.accessAllowed ? 'block' : 'none';\n",
              "    })();\n",
              "  </script>\n",
              "</div>\n",
              "    </div>\n",
              "  </div>\n"
            ]
          },
          "metadata": {},
          "execution_count": 9
        }
      ],
      "source": [
        "# getdummies convierte las variable de string a numerico transfomandolas en columnas por cada categoria\n",
        "data = pd.get_dummies(data, columns=['LOCALIDAD_NOMBRE','MORTALIDAD_CODIGO_CIE10'])\n",
        "data.head()"
      ]
    },
    {
      "cell_type": "code",
      "execution_count": 10,
      "id": "01aa0450",
      "metadata": {
        "id": "01aa0450",
        "outputId": "1a01a70a-762d-4d4e-8213-c678d6f0a822",
        "colab": {
          "base_uri": "https://localhost:8080/"
        }
      },
      "outputs": [
        {
          "output_type": "execute_result",
          "data": {
            "text/plain": [
              "(11482, 17)"
            ]
          },
          "metadata": {},
          "execution_count": 10
        }
      ],
      "source": [
        "data.shape"
      ]
    },
    {
      "cell_type": "code",
      "source": [
        "data.dtypes"
      ],
      "metadata": {
        "colab": {
          "base_uri": "https://localhost:8080/"
        },
        "id": "t1wM_FwkyWWH",
        "outputId": "4f9cc7d3-7312-49b0-9288-228afefe5437"
      },
      "id": "t1wM_FwkyWWH",
      "execution_count": 11,
      "outputs": [
        {
          "output_type": "execute_result",
          "data": {
            "text/plain": [
              "ANIO                                int64\n",
              "SEXO                               object\n",
              "LOCALIDAD_NOMBRE_Ciudad Bolívar     uint8\n",
              "LOCALIDAD_NOMBRE_Kennedy            uint8\n",
              "LOCALIDAD_NOMBRE_Puente Aranda      uint8\n",
              "LOCALIDAD_NOMBRE_Suba               uint8\n",
              "LOCALIDAD_NOMBRE_Usme               uint8\n",
              "MORTALIDAD_CODIGO_CIE10_J42X        uint8\n",
              "MORTALIDAD_CODIGO_CIE10_J431        uint8\n",
              "MORTALIDAD_CODIGO_CIE10_J432        uint8\n",
              "MORTALIDAD_CODIGO_CIE10_J439        uint8\n",
              "MORTALIDAD_CODIGO_CIE10_J440        uint8\n",
              "MORTALIDAD_CODIGO_CIE10_J441        uint8\n",
              "MORTALIDAD_CODIGO_CIE10_J448        uint8\n",
              "MORTALIDAD_CODIGO_CIE10_J449        uint8\n",
              "MORTALIDAD_CODIGO_CIE10_J982        uint8\n",
              "MORTALIDAD_CODIGO_CIE10_P250        uint8\n",
              "dtype: object"
            ]
          },
          "metadata": {},
          "execution_count": 11
        }
      ]
    },
    {
      "cell_type": "code",
      "source": [
        "data['SEXO']"
      ],
      "metadata": {
        "colab": {
          "base_uri": "https://localhost:8080/"
        },
        "id": "Y79Mfk0X1DTu",
        "outputId": "f27bb255-ae4c-4399-af63-271b4837441d"
      },
      "id": "Y79Mfk0X1DTu",
      "execution_count": 12,
      "outputs": [
        {
          "output_type": "execute_result",
          "data": {
            "text/plain": [
              "4861      Masculino\n",
              "5034      Masculino\n",
              "5080      Masculino\n",
              "5081      Masculino\n",
              "5082      Masculino\n",
              "            ...    \n",
              "539424     Femenino\n",
              "539425     Femenino\n",
              "539426    Masculino\n",
              "539427     Femenino\n",
              "539428     Femenino\n",
              "Name: SEXO, Length: 11482, dtype: object"
            ]
          },
          "metadata": {},
          "execution_count": 12
        }
      ]
    },
    {
      "cell_type": "code",
      "source": [
        "data['SEXO'] = pd.Categorical(data['SEXO'])\n",
        "categories = data.SEXO.cat.categories\n",
        "codes = data.SEXO.cat.codes"
      ],
      "metadata": {
        "id": "tMOAObkD1GYh"
      },
      "id": "tMOAObkD1GYh",
      "execution_count": 13,
      "outputs": []
    },
    {
      "cell_type": "code",
      "source": [
        "categories"
      ],
      "metadata": {
        "colab": {
          "base_uri": "https://localhost:8080/"
        },
        "id": "mMCINNJC1KYv",
        "outputId": "03906e35-fb14-4691-d717-70ac3fd502a1"
      },
      "id": "mMCINNJC1KYv",
      "execution_count": 14,
      "outputs": [
        {
          "output_type": "execute_result",
          "data": {
            "text/plain": [
              "Index(['Femenino', 'Masculino'], dtype='object')"
            ]
          },
          "metadata": {},
          "execution_count": 14
        }
      ]
    },
    {
      "cell_type": "code",
      "source": [
        "data['SEXO'] = data.SEXO.cat.codes\n",
        "data.dtypes"
      ],
      "metadata": {
        "colab": {
          "base_uri": "https://localhost:8080/"
        },
        "id": "VIlwSDgHzJOb",
        "outputId": "3e66a907-4dcf-4193-efb9-ae73902f1252"
      },
      "id": "VIlwSDgHzJOb",
      "execution_count": 15,
      "outputs": [
        {
          "output_type": "execute_result",
          "data": {
            "text/plain": [
              "ANIO                               int64\n",
              "SEXO                                int8\n",
              "LOCALIDAD_NOMBRE_Ciudad Bolívar    uint8\n",
              "LOCALIDAD_NOMBRE_Kennedy           uint8\n",
              "LOCALIDAD_NOMBRE_Puente Aranda     uint8\n",
              "LOCALIDAD_NOMBRE_Suba              uint8\n",
              "LOCALIDAD_NOMBRE_Usme              uint8\n",
              "MORTALIDAD_CODIGO_CIE10_J42X       uint8\n",
              "MORTALIDAD_CODIGO_CIE10_J431       uint8\n",
              "MORTALIDAD_CODIGO_CIE10_J432       uint8\n",
              "MORTALIDAD_CODIGO_CIE10_J439       uint8\n",
              "MORTALIDAD_CODIGO_CIE10_J440       uint8\n",
              "MORTALIDAD_CODIGO_CIE10_J441       uint8\n",
              "MORTALIDAD_CODIGO_CIE10_J448       uint8\n",
              "MORTALIDAD_CODIGO_CIE10_J449       uint8\n",
              "MORTALIDAD_CODIGO_CIE10_J982       uint8\n",
              "MORTALIDAD_CODIGO_CIE10_P250       uint8\n",
              "dtype: object"
            ]
          },
          "metadata": {},
          "execution_count": 15
        }
      ]
    },
    {
      "cell_type": "code",
      "source": [
        "data['SEXO'].head()"
      ],
      "metadata": {
        "colab": {
          "base_uri": "https://localhost:8080/"
        },
        "id": "Wm2Biigb0CcH",
        "outputId": "f96a7243-63d0-408c-ee92-7fe459b1f256"
      },
      "id": "Wm2Biigb0CcH",
      "execution_count": 16,
      "outputs": [
        {
          "output_type": "execute_result",
          "data": {
            "text/plain": [
              "4861    1\n",
              "5034    1\n",
              "5080    1\n",
              "5081    1\n",
              "5082    1\n",
              "Name: SEXO, dtype: int8"
            ]
          },
          "metadata": {},
          "execution_count": 16
        }
      ]
    },
    {
      "cell_type": "code",
      "execution_count": 17,
      "id": "f3587c51",
      "metadata": {
        "id": "f3587c51",
        "outputId": "28ac96ee-3a07-466a-d4d3-0a5fa5a541e0",
        "colab": {
          "base_uri": "https://localhost:8080/"
        }
      },
      "outputs": [
        {
          "output_type": "execute_result",
          "data": {
            "text/plain": [
              "(11482, 16)"
            ]
          },
          "metadata": {},
          "execution_count": 17
        }
      ],
      "source": [
        "X = data.drop('SEXO', axis=1)\n",
        "X.shape"
      ]
    },
    {
      "cell_type": "code",
      "execution_count": 18,
      "id": "4d270d84",
      "metadata": {
        "id": "4d270d84",
        "colab": {
          "base_uri": "https://localhost:8080/"
        },
        "outputId": "ce608a0c-a758-4ceb-c929-84d2e18a48d4"
      },
      "outputs": [
        {
          "output_type": "execute_result",
          "data": {
            "text/plain": [
              "(11482, 1)"
            ]
          },
          "metadata": {},
          "execution_count": 18
        }
      ],
      "source": [
        "Y=pd.DataFrame()\n",
        "Y['SEXO'] = data['SEXO']\n",
        "Y.shape"
      ]
    },
    {
      "cell_type": "code",
      "source": [
        "print(data['SEXO'].value_counts(normalize=True).mul(100).round(1).astype(str)+'%')"
      ],
      "metadata": {
        "colab": {
          "base_uri": "https://localhost:8080/"
        },
        "id": "WgmMQbokx-Xi",
        "outputId": "3a4c76ce-2753-4f63-e946-8ccdfa5d58fb"
      },
      "id": "WgmMQbokx-Xi",
      "execution_count": 19,
      "outputs": [
        {
          "output_type": "stream",
          "name": "stdout",
          "text": [
            "0    52.7%\n",
            "1    47.3%\n",
            "Name: SEXO, dtype: object\n"
          ]
        }
      ]
    },
    {
      "cell_type": "markdown",
      "source": [
        "### Transformación datos: media cero y varianza unitaria"
      ],
      "metadata": {
        "id": "WctsMc7cJWH3"
      },
      "id": "WctsMc7cJWH3"
    },
    {
      "cell_type": "code",
      "execution_count": 20,
      "id": "65a6de96",
      "metadata": {
        "id": "65a6de96"
      },
      "outputs": [],
      "source": [
        "from sklearn.preprocessing import StandardScaler"
      ]
    },
    {
      "cell_type": "code",
      "execution_count": 21,
      "id": "7c5b6216",
      "metadata": {
        "id": "7c5b6216",
        "colab": {
          "base_uri": "https://localhost:8080/"
        },
        "outputId": "3f76eec6-6391-4407-8e1b-4034822d9cc7"
      },
      "outputs": [
        {
          "output_type": "execute_result",
          "data": {
            "text/plain": [
              "(11482, 16)"
            ]
          },
          "metadata": {},
          "execution_count": 21
        }
      ],
      "source": [
        "# Media cero y varianza unitaria\n",
        "sc = StandardScaler()\n",
        "Xsc = sc.fit(X)\n",
        "Xt = Xsc.transform(X)\n",
        "Xt.shape\n"
      ]
    },
    {
      "cell_type": "markdown",
      "source": [
        "### Partición conjuntos de datos: Entrenamiento, prueba y validación"
      ],
      "metadata": {
        "id": "uXdpcyblJjc2"
      },
      "id": "uXdpcyblJjc2"
    },
    {
      "cell_type": "code",
      "source": [
        "from sklearn.model_selection import train_test_split as split"
      ],
      "metadata": {
        "id": "YRs0yBDoH5bl"
      },
      "id": "YRs0yBDoH5bl",
      "execution_count": 22,
      "outputs": []
    },
    {
      "cell_type": "code",
      "source": [
        "## # Definir función para particionar el conjunto de datos\n",
        "\n",
        "X_train, X_test, y_train, y_test = split(Xt,Y,\n",
        "                                         test_size=0.30,\n",
        "                                         random_state=42,\n",
        "                                         stratify=Y)\n",
        "\n",
        "# X_train, X_valid, y_train, y_valid = split(X_train, y_train,\n",
        "#                                            test_size=0.2,\n",
        "#                                            stratify=y_train)"
      ],
      "metadata": {
        "id": "xHkxxOYwHlRd"
      },
      "id": "xHkxxOYwHlRd",
      "execution_count": 23,
      "outputs": []
    },
    {
      "cell_type": "markdown",
      "source": [
        "## Modelos Supervisados"
      ],
      "metadata": {
        "id": "i3tB9ZDaIw0u"
      },
      "id": "i3tB9ZDaIw0u"
    },
    {
      "cell_type": "markdown",
      "id": "0ce13595",
      "metadata": {
        "id": "0ce13595"
      },
      "source": [
        "### Árboles de decisión"
      ]
    },
    {
      "cell_type": "code",
      "execution_count": 24,
      "id": "d878bc8a",
      "metadata": {
        "id": "d878bc8a"
      },
      "outputs": [],
      "source": [
        "# import xgboost as xgb\n",
        "from sklearn import metrics\n",
        "from sklearn.ensemble import BaggingClassifier\n",
        "from sklearn.tree import DecisionTreeClassifier\n",
        "from sklearn.ensemble import RandomForestClassifier"
      ]
    },
    {
      "cell_type": "code",
      "execution_count": 25,
      "id": "ac7fba1e",
      "metadata": {
        "id": "ac7fba1e",
        "outputId": "117be2c4-5031-473f-eb50-a122f58778be",
        "colab": {
          "base_uri": "https://localhost:8080/"
        }
      },
      "outputs": [
        {
          "output_type": "stream",
          "name": "stdout",
          "text": [
            "\n",
            "               precision    recall  f1-score   support\n",
            "\n",
            "           0       0.55      0.70      0.62      1816\n",
            "           1       0.52      0.36      0.42      1629\n",
            "\n",
            "    accuracy                           0.54      3445\n",
            "   macro avg       0.53      0.53      0.52      3445\n",
            "weighted avg       0.53      0.54      0.52      3445\n",
            "\n"
          ]
        }
      ],
      "source": [
        "#Definición del modelo\n",
        "arbol1 = DecisionTreeClassifier()\n",
        "\n",
        "#Entrenamiento y evaluación del modelo\n",
        "arbol1 = arbol1.fit(X_train,y_train)\n",
        "\n",
        "# Calcular métricas de desempeño\n",
        "y_pred = arbol1.predict(X_test)\n",
        "print(\"\\n\", metrics.classification_report(y_test, y_pred, digits=2))\n",
        "\n",
        "# Visualizar matriz de confusión\n",
        "# Y_pred13 = np_utils.to_categorical(y_pred13)\n",
        "# cm = matriz_confusion(Y_test, y_pred, 'si', 'Matriz de confusión clasificador AD')"
      ]
    },
    {
      "cell_type": "markdown",
      "id": "7ccb4d3c",
      "metadata": {
        "id": "7ccb4d3c"
      },
      "source": [
        "### Random Forests"
      ]
    },
    {
      "cell_type": "code",
      "execution_count": null,
      "id": "cab294f4",
      "metadata": {
        "id": "cab294f4"
      },
      "outputs": [],
      "source": [
        "from sklearn.ensemble import RandomForestClassifier"
      ]
    },
    {
      "cell_type": "code",
      "execution_count": 26,
      "id": "58985e56",
      "metadata": {
        "id": "58985e56",
        "outputId": "7477dd5e-2538-41c2-b078-ab5df7d62043",
        "colab": {
          "base_uri": "https://localhost:8080/"
        }
      },
      "outputs": [
        {
          "output_type": "stream",
          "name": "stderr",
          "text": [
            "<ipython-input-26-806e5833a619>:5: DataConversionWarning: A column-vector y was passed when a 1d array was expected. Please change the shape of y to (n_samples,), for example using ravel().\n",
            "  rfc.fit(X_train, y_train)\n"
          ]
        },
        {
          "output_type": "stream",
          "name": "stdout",
          "text": [
            "\n",
            "               precision    recall  f1-score   support\n",
            "\n",
            "           0       0.55      0.66      0.60      1816\n",
            "           1       0.51      0.40      0.45      1629\n",
            "\n",
            "    accuracy                           0.53      3445\n",
            "   macro avg       0.53      0.53      0.52      3445\n",
            "weighted avg       0.53      0.53      0.53      3445\n",
            "\n"
          ]
        }
      ],
      "source": [
        "#Definición del modelo\n",
        "rfc = RandomForestClassifier(n_estimators=500) # 100 , 200 , 300 , 400 , 500\n",
        "\n",
        "#Entrenamiento y evaluación del modelo\n",
        "rfc.fit(X_train, y_train)\n",
        "\n",
        "# Calcular métricas de desempeño\n",
        "y_pred2 = rfc.predict(X_test)\n",
        "print(\"\\n\", metrics.classification_report(y_test, y_pred2, digits=2))"
      ]
    },
    {
      "cell_type": "markdown",
      "id": "045e6bb9",
      "metadata": {
        "id": "045e6bb9"
      },
      "source": [
        "### Xgboost"
      ]
    },
    {
      "cell_type": "code",
      "execution_count": 27,
      "id": "733ba490",
      "metadata": {
        "id": "733ba490"
      },
      "outputs": [],
      "source": [
        "# from sklearn.model_selection import cross_val_score, KFold\n",
        "import xgboost as xgb"
      ]
    },
    {
      "cell_type": "code",
      "execution_count": 28,
      "id": "4659e984",
      "metadata": {
        "id": "4659e984"
      },
      "outputs": [],
      "source": [
        "#Definición del modelo\n",
        "xg_class = xgb.XGBClassifier(objective ='multi:softprob', colsample_bytree = 1, learning_rate = 0.04,\n",
        "                max_depth = 4, alpha = 10, n_estimators = 200, eval_metric='mlogloss')"
      ]
    },
    {
      "cell_type": "code",
      "source": [
        "from sklearn.preprocessing import LabelEncoder\n",
        "le = LabelEncoder()\n",
        "y_train = le.fit_transform(y_train)"
      ],
      "metadata": {
        "id": "CF-_y9Rh9lt9",
        "colab": {
          "base_uri": "https://localhost:8080/"
        },
        "outputId": "b3f250c6-cddc-4794-81de-8d5bf9f0c06c"
      },
      "id": "CF-_y9Rh9lt9",
      "execution_count": 29,
      "outputs": [
        {
          "output_type": "stream",
          "name": "stderr",
          "text": [
            "/usr/local/lib/python3.10/dist-packages/sklearn/preprocessing/_label.py:116: DataConversionWarning: A column-vector y was passed when a 1d array was expected. Please change the shape of y to (n_samples, ), for example using ravel().\n",
            "  y = column_or_1d(y, warn=True)\n"
          ]
        }
      ]
    },
    {
      "cell_type": "code",
      "execution_count": 30,
      "id": "a11d4f63",
      "metadata": {
        "id": "a11d4f63",
        "colab": {
          "base_uri": "https://localhost:8080/",
          "height": 391
        },
        "outputId": "97218dee-14d5-41a0-92d3-8da76d1c13e0"
      },
      "outputs": [
        {
          "output_type": "error",
          "ename": "XGBoostError",
          "evalue": "value 0 for Parameter num_class should be greater equal to 1\nnum_class: Number of output class in the multi-class classification.",
          "traceback": [
            "\u001b[0;31m---------------------------------------------------------------------------\u001b[0m",
            "\u001b[0;31mXGBoostError\u001b[0m                              Traceback (most recent call last)",
            "\u001b[0;32m<ipython-input-30-daa93027cb0b>\u001b[0m in \u001b[0;36m<cell line: 2>\u001b[0;34m()\u001b[0m\n\u001b[1;32m      1\u001b[0m \u001b[0;31m#Entrenamiento del modelo\u001b[0m\u001b[0;34m\u001b[0m\u001b[0;34m\u001b[0m\u001b[0m\n\u001b[0;32m----> 2\u001b[0;31m xg_class.fit(X_train, y_train,\n\u001b[0m\u001b[1;32m      3\u001b[0m              \u001b[0meval_set\u001b[0m\u001b[0;34m=\u001b[0m\u001b[0;34m[\u001b[0m\u001b[0;34m(\u001b[0m\u001b[0mX_train\u001b[0m\u001b[0;34m,\u001b[0m \u001b[0my_train\u001b[0m\u001b[0;34m)\u001b[0m\u001b[0;34m,\u001b[0m \u001b[0;34m(\u001b[0m\u001b[0mX_test\u001b[0m\u001b[0;34m,\u001b[0m \u001b[0my_test\u001b[0m\u001b[0;34m)\u001b[0m\u001b[0;34m]\u001b[0m\u001b[0;34m,\u001b[0m\u001b[0;34m\u001b[0m\u001b[0;34m\u001b[0m\u001b[0m\n\u001b[1;32m      4\u001b[0m              verbose=False)\n",
            "\u001b[0;32m/usr/local/lib/python3.10/dist-packages/xgboost/core.py\u001b[0m in \u001b[0;36minner_f\u001b[0;34m(*args, **kwargs)\u001b[0m\n\u001b[1;32m    728\u001b[0m             \u001b[0;32mfor\u001b[0m \u001b[0mk\u001b[0m\u001b[0;34m,\u001b[0m \u001b[0marg\u001b[0m \u001b[0;32min\u001b[0m \u001b[0mzip\u001b[0m\u001b[0;34m(\u001b[0m\u001b[0msig\u001b[0m\u001b[0;34m.\u001b[0m\u001b[0mparameters\u001b[0m\u001b[0;34m,\u001b[0m \u001b[0margs\u001b[0m\u001b[0;34m)\u001b[0m\u001b[0;34m:\u001b[0m\u001b[0;34m\u001b[0m\u001b[0;34m\u001b[0m\u001b[0m\n\u001b[1;32m    729\u001b[0m                 \u001b[0mkwargs\u001b[0m\u001b[0;34m[\u001b[0m\u001b[0mk\u001b[0m\u001b[0;34m]\u001b[0m \u001b[0;34m=\u001b[0m \u001b[0marg\u001b[0m\u001b[0;34m\u001b[0m\u001b[0;34m\u001b[0m\u001b[0m\n\u001b[0;32m--> 730\u001b[0;31m             \u001b[0;32mreturn\u001b[0m \u001b[0mfunc\u001b[0m\u001b[0;34m(\u001b[0m\u001b[0;34m**\u001b[0m\u001b[0mkwargs\u001b[0m\u001b[0;34m)\u001b[0m\u001b[0;34m\u001b[0m\u001b[0;34m\u001b[0m\u001b[0m\n\u001b[0m\u001b[1;32m    731\u001b[0m \u001b[0;34m\u001b[0m\u001b[0m\n\u001b[1;32m    732\u001b[0m         \u001b[0;32mreturn\u001b[0m \u001b[0minner_f\u001b[0m\u001b[0;34m\u001b[0m\u001b[0;34m\u001b[0m\u001b[0m\n",
            "\u001b[0;32m/usr/local/lib/python3.10/dist-packages/xgboost/sklearn.py\u001b[0m in \u001b[0;36mfit\u001b[0;34m(self, X, y, sample_weight, base_margin, eval_set, eval_metric, early_stopping_rounds, verbose, xgb_model, sample_weight_eval_set, base_margin_eval_set, feature_weights, callbacks)\u001b[0m\n\u001b[1;32m   1517\u001b[0m             )\n\u001b[1;32m   1518\u001b[0m \u001b[0;34m\u001b[0m\u001b[0m\n\u001b[0;32m-> 1519\u001b[0;31m             self._Booster = train(\n\u001b[0m\u001b[1;32m   1520\u001b[0m                 \u001b[0mparams\u001b[0m\u001b[0;34m,\u001b[0m\u001b[0;34m\u001b[0m\u001b[0;34m\u001b[0m\u001b[0m\n\u001b[1;32m   1521\u001b[0m                 \u001b[0mtrain_dmatrix\u001b[0m\u001b[0;34m,\u001b[0m\u001b[0;34m\u001b[0m\u001b[0;34m\u001b[0m\u001b[0m\n",
            "\u001b[0;32m/usr/local/lib/python3.10/dist-packages/xgboost/core.py\u001b[0m in \u001b[0;36minner_f\u001b[0;34m(*args, **kwargs)\u001b[0m\n\u001b[1;32m    728\u001b[0m             \u001b[0;32mfor\u001b[0m \u001b[0mk\u001b[0m\u001b[0;34m,\u001b[0m \u001b[0marg\u001b[0m \u001b[0;32min\u001b[0m \u001b[0mzip\u001b[0m\u001b[0;34m(\u001b[0m\u001b[0msig\u001b[0m\u001b[0;34m.\u001b[0m\u001b[0mparameters\u001b[0m\u001b[0;34m,\u001b[0m \u001b[0margs\u001b[0m\u001b[0;34m)\u001b[0m\u001b[0;34m:\u001b[0m\u001b[0;34m\u001b[0m\u001b[0;34m\u001b[0m\u001b[0m\n\u001b[1;32m    729\u001b[0m                 \u001b[0mkwargs\u001b[0m\u001b[0;34m[\u001b[0m\u001b[0mk\u001b[0m\u001b[0;34m]\u001b[0m \u001b[0;34m=\u001b[0m \u001b[0marg\u001b[0m\u001b[0;34m\u001b[0m\u001b[0;34m\u001b[0m\u001b[0m\n\u001b[0;32m--> 730\u001b[0;31m             \u001b[0;32mreturn\u001b[0m \u001b[0mfunc\u001b[0m\u001b[0;34m(\u001b[0m\u001b[0;34m**\u001b[0m\u001b[0mkwargs\u001b[0m\u001b[0;34m)\u001b[0m\u001b[0;34m\u001b[0m\u001b[0;34m\u001b[0m\u001b[0m\n\u001b[0m\u001b[1;32m    731\u001b[0m \u001b[0;34m\u001b[0m\u001b[0m\n\u001b[1;32m    732\u001b[0m         \u001b[0;32mreturn\u001b[0m \u001b[0minner_f\u001b[0m\u001b[0;34m\u001b[0m\u001b[0;34m\u001b[0m\u001b[0m\n",
            "\u001b[0;32m/usr/local/lib/python3.10/dist-packages/xgboost/training.py\u001b[0m in \u001b[0;36mtrain\u001b[0;34m(params, dtrain, num_boost_round, evals, obj, feval, maximize, early_stopping_rounds, evals_result, verbose_eval, xgb_model, callbacks, custom_metric)\u001b[0m\n\u001b[1;32m    179\u001b[0m         \u001b[0;32mif\u001b[0m \u001b[0mcb_container\u001b[0m\u001b[0;34m.\u001b[0m\u001b[0mbefore_iteration\u001b[0m\u001b[0;34m(\u001b[0m\u001b[0mbst\u001b[0m\u001b[0;34m,\u001b[0m \u001b[0mi\u001b[0m\u001b[0;34m,\u001b[0m \u001b[0mdtrain\u001b[0m\u001b[0;34m,\u001b[0m \u001b[0mevals\u001b[0m\u001b[0;34m)\u001b[0m\u001b[0;34m:\u001b[0m\u001b[0;34m\u001b[0m\u001b[0;34m\u001b[0m\u001b[0m\n\u001b[1;32m    180\u001b[0m             \u001b[0;32mbreak\u001b[0m\u001b[0;34m\u001b[0m\u001b[0;34m\u001b[0m\u001b[0m\n\u001b[0;32m--> 181\u001b[0;31m         \u001b[0mbst\u001b[0m\u001b[0;34m.\u001b[0m\u001b[0mupdate\u001b[0m\u001b[0;34m(\u001b[0m\u001b[0mdtrain\u001b[0m\u001b[0;34m,\u001b[0m \u001b[0mi\u001b[0m\u001b[0;34m,\u001b[0m \u001b[0mobj\u001b[0m\u001b[0;34m)\u001b[0m\u001b[0;34m\u001b[0m\u001b[0;34m\u001b[0m\u001b[0m\n\u001b[0m\u001b[1;32m    182\u001b[0m         \u001b[0;32mif\u001b[0m \u001b[0mcb_container\u001b[0m\u001b[0;34m.\u001b[0m\u001b[0mafter_iteration\u001b[0m\u001b[0;34m(\u001b[0m\u001b[0mbst\u001b[0m\u001b[0;34m,\u001b[0m \u001b[0mi\u001b[0m\u001b[0;34m,\u001b[0m \u001b[0mdtrain\u001b[0m\u001b[0;34m,\u001b[0m \u001b[0mevals\u001b[0m\u001b[0;34m)\u001b[0m\u001b[0;34m:\u001b[0m\u001b[0;34m\u001b[0m\u001b[0;34m\u001b[0m\u001b[0m\n\u001b[1;32m    183\u001b[0m             \u001b[0;32mbreak\u001b[0m\u001b[0;34m\u001b[0m\u001b[0;34m\u001b[0m\u001b[0m\n",
            "\u001b[0;32m/usr/local/lib/python3.10/dist-packages/xgboost/core.py\u001b[0m in \u001b[0;36mupdate\u001b[0;34m(self, dtrain, iteration, fobj)\u001b[0m\n\u001b[1;32m   2048\u001b[0m \u001b[0;34m\u001b[0m\u001b[0m\n\u001b[1;32m   2049\u001b[0m         \u001b[0;32mif\u001b[0m \u001b[0mfobj\u001b[0m \u001b[0;32mis\u001b[0m \u001b[0;32mNone\u001b[0m\u001b[0;34m:\u001b[0m\u001b[0;34m\u001b[0m\u001b[0;34m\u001b[0m\u001b[0m\n\u001b[0;32m-> 2050\u001b[0;31m             _check_call(\n\u001b[0m\u001b[1;32m   2051\u001b[0m                 _LIB.XGBoosterUpdateOneIter(\n\u001b[1;32m   2052\u001b[0m                     \u001b[0mself\u001b[0m\u001b[0;34m.\u001b[0m\u001b[0mhandle\u001b[0m\u001b[0;34m,\u001b[0m \u001b[0mctypes\u001b[0m\u001b[0;34m.\u001b[0m\u001b[0mc_int\u001b[0m\u001b[0;34m(\u001b[0m\u001b[0miteration\u001b[0m\u001b[0;34m)\u001b[0m\u001b[0;34m,\u001b[0m \u001b[0mdtrain\u001b[0m\u001b[0;34m.\u001b[0m\u001b[0mhandle\u001b[0m\u001b[0;34m\u001b[0m\u001b[0;34m\u001b[0m\u001b[0m\n",
            "\u001b[0;32m/usr/local/lib/python3.10/dist-packages/xgboost/core.py\u001b[0m in \u001b[0;36m_check_call\u001b[0;34m(ret)\u001b[0m\n\u001b[1;32m    280\u001b[0m     \"\"\"\n\u001b[1;32m    281\u001b[0m     \u001b[0;32mif\u001b[0m \u001b[0mret\u001b[0m \u001b[0;34m!=\u001b[0m \u001b[0;36m0\u001b[0m\u001b[0;34m:\u001b[0m\u001b[0;34m\u001b[0m\u001b[0;34m\u001b[0m\u001b[0m\n\u001b[0;32m--> 282\u001b[0;31m         \u001b[0;32mraise\u001b[0m \u001b[0mXGBoostError\u001b[0m\u001b[0;34m(\u001b[0m\u001b[0mpy_str\u001b[0m\u001b[0;34m(\u001b[0m\u001b[0m_LIB\u001b[0m\u001b[0;34m.\u001b[0m\u001b[0mXGBGetLastError\u001b[0m\u001b[0;34m(\u001b[0m\u001b[0;34m)\u001b[0m\u001b[0;34m)\u001b[0m\u001b[0;34m)\u001b[0m\u001b[0;34m\u001b[0m\u001b[0;34m\u001b[0m\u001b[0m\n\u001b[0m\u001b[1;32m    283\u001b[0m \u001b[0;34m\u001b[0m\u001b[0m\n\u001b[1;32m    284\u001b[0m \u001b[0;34m\u001b[0m\u001b[0m\n",
            "\u001b[0;31mXGBoostError\u001b[0m: value 0 for Parameter num_class should be greater equal to 1\nnum_class: Number of output class in the multi-class classification."
          ]
        }
      ],
      "source": [
        "#Entrenamiento del modelo\n",
        "xg_class.fit(X_train, y_train,\n",
        "             eval_set=[(X_train, y_train), (X_test, y_test)],\n",
        "             verbose=False)"
      ]
    },
    {
      "cell_type": "code",
      "execution_count": null,
      "id": "8b3271c3",
      "metadata": {
        "id": "8b3271c3",
        "colab": {
          "base_uri": "https://localhost:8080/",
          "height": 356
        },
        "outputId": "4afaadb5-0d3b-4377-b505-a0bf50426ff5"
      },
      "outputs": [
        {
          "output_type": "error",
          "ename": "NotFittedError",
          "evalue": "need to call fit or load_model beforehand",
          "traceback": [
            "\u001b[0;31m---------------------------------------------------------------------------\u001b[0m",
            "\u001b[0;31mNotFittedError\u001b[0m                            Traceback (most recent call last)",
            "\u001b[0;32m<ipython-input-77-2b609cca231f>\u001b[0m in \u001b[0;36m<cell line: 2>\u001b[0;34m()\u001b[0m\n\u001b[1;32m      1\u001b[0m \u001b[0;31m# Calcular métricas de desempeño\u001b[0m\u001b[0;34m\u001b[0m\u001b[0;34m\u001b[0m\u001b[0m\n\u001b[0;32m----> 2\u001b[0;31m \u001b[0my_pred4\u001b[0m \u001b[0;34m=\u001b[0m \u001b[0mxg_class\u001b[0m\u001b[0;34m.\u001b[0m\u001b[0mpredict\u001b[0m\u001b[0;34m(\u001b[0m\u001b[0mX_test\u001b[0m\u001b[0;34m)\u001b[0m\u001b[0;34m\u001b[0m\u001b[0;34m\u001b[0m\u001b[0m\n\u001b[0m\u001b[1;32m      3\u001b[0m \u001b[0mprint\u001b[0m\u001b[0;34m(\u001b[0m\u001b[0;34m\"\\n\"\u001b[0m\u001b[0;34m,\u001b[0m \u001b[0mmetrics\u001b[0m\u001b[0;34m.\u001b[0m\u001b[0mclassification_report\u001b[0m\u001b[0;34m(\u001b[0m\u001b[0my_test\u001b[0m\u001b[0;34m,\u001b[0m \u001b[0my_pred4\u001b[0m\u001b[0;34m,\u001b[0m \u001b[0mdigits\u001b[0m\u001b[0;34m=\u001b[0m\u001b[0;36m2\u001b[0m\u001b[0;34m)\u001b[0m\u001b[0;34m)\u001b[0m\u001b[0;34m\u001b[0m\u001b[0;34m\u001b[0m\u001b[0m\n",
            "\u001b[0;32m/usr/local/lib/python3.10/dist-packages/xgboost/sklearn.py\u001b[0m in \u001b[0;36mpredict\u001b[0;34m(self, X, output_margin, validate_features, base_margin, iteration_range)\u001b[0m\n\u001b[1;32m   1551\u001b[0m     ) -> ArrayLike:\n\u001b[1;32m   1552\u001b[0m         \u001b[0;32mwith\u001b[0m \u001b[0mconfig_context\u001b[0m\u001b[0;34m(\u001b[0m\u001b[0mverbosity\u001b[0m\u001b[0;34m=\u001b[0m\u001b[0mself\u001b[0m\u001b[0;34m.\u001b[0m\u001b[0mverbosity\u001b[0m\u001b[0;34m)\u001b[0m\u001b[0;34m:\u001b[0m\u001b[0;34m\u001b[0m\u001b[0;34m\u001b[0m\u001b[0m\n\u001b[0;32m-> 1553\u001b[0;31m             class_probs = super().predict(\n\u001b[0m\u001b[1;32m   1554\u001b[0m                 \u001b[0mX\u001b[0m\u001b[0;34m=\u001b[0m\u001b[0mX\u001b[0m\u001b[0;34m,\u001b[0m\u001b[0;34m\u001b[0m\u001b[0;34m\u001b[0m\u001b[0m\n\u001b[1;32m   1555\u001b[0m                 \u001b[0moutput_margin\u001b[0m\u001b[0;34m=\u001b[0m\u001b[0moutput_margin\u001b[0m\u001b[0;34m,\u001b[0m\u001b[0;34m\u001b[0m\u001b[0;34m\u001b[0m\u001b[0m\n",
            "\u001b[0;32m/usr/local/lib/python3.10/dist-packages/xgboost/sklearn.py\u001b[0m in \u001b[0;36mpredict\u001b[0;34m(self, X, output_margin, validate_features, base_margin, iteration_range)\u001b[0m\n\u001b[1;32m   1166\u001b[0m             \u001b[0;32mif\u001b[0m \u001b[0mself\u001b[0m\u001b[0;34m.\u001b[0m\u001b[0m_can_use_inplace_predict\u001b[0m\u001b[0;34m(\u001b[0m\u001b[0;34m)\u001b[0m\u001b[0;34m:\u001b[0m\u001b[0;34m\u001b[0m\u001b[0;34m\u001b[0m\u001b[0m\n\u001b[1;32m   1167\u001b[0m                 \u001b[0;32mtry\u001b[0m\u001b[0;34m:\u001b[0m\u001b[0;34m\u001b[0m\u001b[0;34m\u001b[0m\u001b[0m\n\u001b[0;32m-> 1168\u001b[0;31m                     predts = self.get_booster().inplace_predict(\n\u001b[0m\u001b[1;32m   1169\u001b[0m                         \u001b[0mdata\u001b[0m\u001b[0;34m=\u001b[0m\u001b[0mX\u001b[0m\u001b[0;34m,\u001b[0m\u001b[0;34m\u001b[0m\u001b[0;34m\u001b[0m\u001b[0m\n\u001b[1;32m   1170\u001b[0m                         \u001b[0miteration_range\u001b[0m\u001b[0;34m=\u001b[0m\u001b[0miteration_range\u001b[0m\u001b[0;34m,\u001b[0m\u001b[0;34m\u001b[0m\u001b[0;34m\u001b[0m\u001b[0m\n",
            "\u001b[0;32m/usr/local/lib/python3.10/dist-packages/xgboost/sklearn.py\u001b[0m in \u001b[0;36mget_booster\u001b[0;34m(self)\u001b[0m\n\u001b[1;32m    723\u001b[0m             \u001b[0;32mfrom\u001b[0m \u001b[0msklearn\u001b[0m\u001b[0;34m.\u001b[0m\u001b[0mexceptions\u001b[0m \u001b[0;32mimport\u001b[0m \u001b[0mNotFittedError\u001b[0m\u001b[0;34m\u001b[0m\u001b[0;34m\u001b[0m\u001b[0m\n\u001b[1;32m    724\u001b[0m \u001b[0;34m\u001b[0m\u001b[0m\n\u001b[0;32m--> 725\u001b[0;31m             \u001b[0;32mraise\u001b[0m \u001b[0mNotFittedError\u001b[0m\u001b[0;34m(\u001b[0m\u001b[0;34m\"need to call fit or load_model beforehand\"\u001b[0m\u001b[0;34m)\u001b[0m\u001b[0;34m\u001b[0m\u001b[0;34m\u001b[0m\u001b[0m\n\u001b[0m\u001b[1;32m    726\u001b[0m         \u001b[0;32mreturn\u001b[0m \u001b[0mself\u001b[0m\u001b[0;34m.\u001b[0m\u001b[0m_Booster\u001b[0m\u001b[0;34m\u001b[0m\u001b[0;34m\u001b[0m\u001b[0m\n\u001b[1;32m    727\u001b[0m \u001b[0;34m\u001b[0m\u001b[0m\n",
            "\u001b[0;31mNotFittedError\u001b[0m: need to call fit or load_model beforehand"
          ]
        }
      ],
      "source": [
        "# Calcular métricas de desempeño\n",
        "y_pred4 = xg_class.predict(X_test)\n",
        "print(\"\\n\", metrics.classification_report(y_test, y_pred4, digits=2))"
      ]
    }
  ],
  "metadata": {
    "kernelspec": {
      "display_name": "Python (bertgpu)",
      "language": "python",
      "name": "bertgpu"
    },
    "language_info": {
      "codemirror_mode": {
        "name": "ipython",
        "version": 3
      },
      "file_extension": ".py",
      "mimetype": "text/x-python",
      "name": "python",
      "nbconvert_exporter": "python",
      "pygments_lexer": "ipython3",
      "version": "3.7.10"
    },
    "colab": {
      "provenance": [],
      "collapsed_sections": [
        "045e6bb9"
      ]
    }
  },
  "nbformat": 4,
  "nbformat_minor": 5
}